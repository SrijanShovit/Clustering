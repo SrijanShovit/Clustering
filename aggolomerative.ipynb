{
 "cells": [
  {
   "cell_type": "markdown",
   "source": [
    "## Impostant Parameters of Aggolomerative Clustering"
   ],
   "metadata": {}
  },
  {
   "cell_type": "markdown",
   "source": [
    "#### n_clusters : by default 2,may not be specified if distance threshold is given\r\n",
    "#### affinity : what distance metric will be used;Precomputed means square matrix\r\n",
    "#### linkage : {\"ward\",\"complete\",\"average\",\"single\"},default = \"ward\"\r\n",
    "#### distance_threshold float,default = None"
   ],
   "metadata": {}
  },
  {
   "cell_type": "markdown",
   "source": [
    "##### on merging clusters,SSE will increase but we choose that linkage which provides minimum SSE increase"
   ],
   "metadata": {}
  },
  {
   "cell_type": "markdown",
   "source": [
    "## How to fit Aggolomerative Clustering"
   ],
   "metadata": {}
  },
  {
   "cell_type": "code",
   "execution_count": 2,
   "source": [
    "from sklearn.cluster import AgglomerativeClustering"
   ],
   "outputs": [],
   "metadata": {}
  },
  {
   "cell_type": "code",
   "execution_count": 3,
   "source": [
    "import numpy as np\r\n",
    "from matplotlib import pyplot as plt\r\n",
    "from scipy.cluster.hierarchy import dendrogram"
   ],
   "outputs": [],
   "metadata": {}
  },
  {
   "cell_type": "code",
   "execution_count": 7,
   "source": [
    "colors = ['royalblue','red','deeppink','maroon','tan','forestgreen','olive','goldenrod','black']\r\n",
    "vectorizer = np.vectorize(lambda x: colors[x % len(colors)])"
   ],
   "outputs": [],
   "metadata": {}
  },
  {
   "cell_type": "code",
   "execution_count": 8,
   "source": [
    "X = np.array([[1,2],[1,3],[2,2],[3,3],[1,0],[4,1],[4,4],[4,0],[6,6]])\r\n",
    "plt.scatter(X[:,0],X[:,1])"
   ],
   "outputs": [
    {
     "output_type": "execute_result",
     "data": {
      "text/plain": [
       "<matplotlib.collections.PathCollection at 0x192bc34ca90>"
      ]
     },
     "metadata": {},
     "execution_count": 8
    },
    {
     "output_type": "display_data",
     "data": {
      "image/png": "[encoded data removed]",
      "text/plain": [
       "<Figure size 432x288 with 1 Axes>"
      ]
     },
     "metadata": {
      "needs_background": "light"
     }
    }
   ],
   "metadata": {}
  },
  {
   "cell_type": "code",
   "execution_count": 9,
   "source": [
    "model = AgglomerativeClustering(linkage=\"single\")\r\n",
    "model = model.fit(X)\r\n",
    "model.labels_"
   ],
   "outputs": [
    {
     "output_type": "execute_result",
     "data": {
      "text/plain": [
       "array([0, 0, 0, 0, 0, 0, 0, 0, 1], dtype=int64)"
      ]
     },
     "metadata": {},
     "execution_count": 9
    }
   ],
   "metadata": {}
  },
  {
   "cell_type": "code",
   "execution_count": 10,
   "source": [
    "plt.scatter(X[:,0],X[:,1],c=vectorizer(model.labels_))"
   ],
   "outputs": [
    {
     "output_type": "execute_result",
     "data": {
      "text/plain": [
       "<matplotlib.collections.PathCollection at 0x192bc3bf700>"
      ]
     },
     "metadata": {},
     "execution_count": 10
    },
    {
     "output_type": "display_data",
     "data": {
      "image/png": "[encoded data removed]",
      "text/plain": [
       "<Figure size 432x288 with 1 Axes>"
      ]
     },
     "metadata": {
      "needs_background": "light"
     }
    }
   ],
   "metadata": {}
  },
  {
   "cell_type": "code",
   "execution_count": 11,
   "source": [
    "from scipy.cluster.hierarchy import dendrogram,linkage\r\n",
    "from matplotlib import pyplot as plt\r\n",
    "Z= linkage(X,'ward')\r\n",
    "dn = dendrogram(Z)\r\n",
    "plt.show()"
   ],
   "outputs": [
    {
     "output_type": "display_data",
     "data": {
      "image/png": "[encoded data removed]",
      "text/plain": [
       "<Figure size 432x288 with 1 Axes>"
      ]
     },
     "metadata": {
      "needs_background": "light"
     }
    }
   ],
   "metadata": {}
  },
  {
   "cell_type": "code",
   "execution_count": 12,
   "source": [
    "# dendrogram tells 0 and 1 are near,forming cluster they form cluster with 2 "
   ],
   "outputs": [],
   "metadata": {}
  },
  {
   "cell_type": "code",
   "execution_count": 18,
   "source": [
    "def clust_plot(X,c):\r\n",
    "    model = AgglomerativeClustering(linkage=\"single\",n_clusters=c)\r\n",
    "    model =  model.fit(X)\r\n",
    "    ymin = model.labels_\r\n",
    "    model = AgglomerativeClustering(linkage=\"complete\",n_clusters=c)\r\n",
    "    model =  model.fit(X)\r\n",
    "    ymax = model.labels_\r\n",
    "    model = AgglomerativeClustering(linkage=\"average\",n_clusters=c)\r\n",
    "    model = model.fit(X)\r\n",
    "    yavg = model.labels_\r\n",
    "    model = AgglomerativeClustering(linkage=\"ward\",n_clusters=c)\r\n",
    "    model = model.fit(X)\r\n",
    "    yward = model.labels_\r\n",
    "    plt.figure()\r\n",
    "    plt.subplot(141)\r\n",
    "    plt.gca().set_title(\"MIN\")\r\n",
    "    plt.scatter(X[:,0],X[:,1],c=vectorizer(ymin))\r\n",
    "   \r\n",
    "    plt.subplot(142)\r\n",
    "    plt.gca().set_title(\"MAX\")\r\n",
    "    plt.scatter(X[:,0],X[:,1],c=vectorizer(ymax))\r\n",
    "   \r\n",
    "    plt.subplot(143)\r\n",
    "    plt.gca().set_title(\"AVG\")\r\n",
    "    plt.scatter(X[:,0],X[:,1],c=vectorizer(yavg))\r\n",
    "   \r\n",
    "    plt.subplot(144)\r\n",
    "    plt.gca().set_title(\"WARD\")\r\n",
    "    plt.scatter(X[:,0],X[:,1],c=vectorizer(yward))\r\n",
    "\r\n"
   ],
   "outputs": [],
   "metadata": {}
  },
  {
   "cell_type": "code",
   "execution_count": 16,
   "source": [
    "clust_plot(X,2)"
   ],
   "outputs": [
    {
     "output_type": "display_data",
     "data": {
      "image/png": "[encoded data removed]",
      "text/plain": [
       "<Figure size 432x288 with 1 Axes>"
      ]
     },
     "metadata": {
      "needs_background": "light"
     }
    }
   ],
   "metadata": {}
  },
  {
   "cell_type": "code",
   "execution_count": null,
   "source": [],
   "outputs": [],
   "metadata": {}
  }
 ],
 "metadata": {
  "orig_nbformat": 4,
  "language_info": {
   "name": "python",
   "version": "3.9.6",
   "mimetype": "text/x-python",
   "codemirror_mode": {
    "name": "ipython",
    "version": 3
   },
   "pygments_lexer": "ipython3",
   "nbconvert_exporter": "python",
   "file_extension": ".py"
  },
  "kernelspec": {
   "name": "python3",
   "display_name": "Python 3.9.6 64-bit"
  },
  "interpreter": {
   "hash": "63fd5069d213b44bf678585dea6b12cceca9941eaf7f819626cde1f2670de90d"
  }
 },
 "nbformat": 4,
 "nbformat_minor": 2
}