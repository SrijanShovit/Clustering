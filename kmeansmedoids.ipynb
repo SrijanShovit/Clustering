{
 "cells": [
  {
   "cell_type": "code",
   "execution_count": 3,
   "source": [
    "import numpy as np\r\n",
    "import matplotlib.pyplot as plt\r\n",
    "import pandas as pd\r\n",
    "from sklearn.cluster import KMeans\r\n",
    "from sklearn_extra.cluster import KMedoids\r\n"
   ],
   "outputs": [],
   "metadata": {}
  },
  {
   "cell_type": "code",
   "execution_count": 4,
   "source": [
    "from sklearn import datasets\r\n",
    "myiris = datasets.load_iris()\r\n",
    "x = myiris.data\r\n",
    "y = myiris.target"
   ],
   "outputs": [],
   "metadata": {}
  },
  {
   "cell_type": "code",
   "execution_count": 5,
   "source": [
    "x.shape"
   ],
   "outputs": [
    {
     "output_type": "execute_result",
     "data": {
      "text/plain": [
       "(150, 4)"
      ]
     },
     "metadata": {},
     "execution_count": 5
    }
   ],
   "metadata": {}
  },
  {
   "cell_type": "code",
   "execution_count": 6,
   "source": [
    "y.shape\r\n"
   ],
   "outputs": [
    {
     "output_type": "execute_result",
     "data": {
      "text/plain": [
       "(150,)"
      ]
     },
     "metadata": {},
     "execution_count": 6
    }
   ],
   "metadata": {}
  },
  {
   "cell_type": "code",
   "execution_count": 7,
   "source": [
    "#bringing all features to a comparable scale \r\n",
    "from sklearn.preprocessing import StandardScaler\r\n",
    "scaler = StandardScaler().fit(x)\r\n",
    "x_scaled = scaler.transform(x)\r\n",
    "kMedoids = KMedoids(n_clusters = 3,random_state=0)\r\n",
    "kMedoids.fit(x_scaled)\r\n",
    "y_kmed = kMedoids.fit_predict(x_scaled)"
   ],
   "outputs": [],
   "metadata": {}
  },
  {
   "cell_type": "code",
   "execution_count": 8,
   "source": [
    "#silhouette coeff = s(i) = (b(i) - a(i))/(max(a(i),b(i)))\r\n",
    "from sklearn.metrics import silhouette_samples, silhouette_score\r\n",
    "kMedoids = KMedoids(n_clusters = 3, random_state = 0)\r\n",
    "kMedoids.fit(x_scaled)\r\n",
    "y_kmed = kMedoids.fit_predict(x_scaled)\r\n",
    "silhouette_avg = silhouette_score(x_scaled,y_kmed)\r\n",
    "print(silhouette_avg)"
   ],
   "outputs": [
    {
     "output_type": "stream",
     "name": "stdout",
     "text": [
      "0.4590416105554613\n"
     ]
    }
   ],
   "metadata": {}
  },
  {
   "cell_type": "code",
   "execution_count": 10,
   "source": [
    "#silhouette score for each clusters\r\n",
    "sample_silhouette_values = silhouette_samples(x_scaled,y_kmed)\r\n",
    "for i in range(3):\r\n",
    "    ith_cluster_silhouette_values = sample_silhouette_values[y_kmed == i]\r\n",
    "    print(np.mean(ith_cluster_silhouette_values))"
   ],
   "outputs": [
    {
     "output_type": "stream",
     "name": "stdout",
     "text": [
      "0.636330614585637\n",
      "0.3768888598233938\n",
      "0.36213487963471125\n"
     ]
    }
   ],
   "metadata": {}
  },
  {
   "cell_type": "code",
   "execution_count": 15,
   "source": [
    "sw = []\r\n",
    "\r\n",
    "for i in range(2,11):\r\n",
    "    kMedoids = KMedoids(n_clusters = i, random_state = 0)\r\n",
    "    kMedoids.fit(x_scaled)\r\n",
    "    y_kmed = kMedoids.fit_predict(x_scaled)\r\n",
    "    silhouette_avg = silhouette_score(x_scaled,y_kmed)\r\n",
    "    sw.append(silhouette_avg)"
   ],
   "outputs": [],
   "metadata": {}
  },
  {
   "cell_type": "code",
   "execution_count": 16,
   "source": [
    "#silhouette width is populated for different values of clusters\r\n",
    "plt.plot(range(2,11),sw)\r\n",
    "plt.title('Silhouette Score')\r\n",
    "plt.xlabel('Number of clusters')\r\n",
    "plt.ylabel('SW') #within cluster sum of squares\r\n",
    "plt.show()"
   ],
   "outputs": [
    {
     "output_type": "display_data",
     "data": {
      "image/png": "[encoded data removed]",
      "text/plain": [
       "<Figure size 432x288 with 1 Axes>"
      ]
     },
     "metadata": {
      "needs_background": "light"
     }
    }
   ],
   "metadata": {}
  },
  {
   "cell_type": "code",
   "execution_count": 18,
   "source": [
    "#elbow at no of clusters = 3"
   ],
   "outputs": [],
   "metadata": {}
  },
  {
   "cell_type": "code",
   "execution_count": 25,
   "source": [
    "from sklearn import metrics\r\n",
    "\r\n",
    "def purity_score(y_true,y_pred):\r\n",
    "    # compute contigency matrix (also called confusion matrix)\r\n",
    "    contingency_matrix = metrics.cluster.contingency_matrix(y_true,y_pred)\r\n",
    "    #return purity\r\n",
    "    return np.sum(np.amax(contingency_matrix,axis = 0)) / np.sum(contingency_matrix)\r\n",
    "    "
   ],
   "outputs": [],
   "metadata": {}
  },
  {
   "cell_type": "code",
   "execution_count": 20,
   "source": [
    "#how extreme values affect kmedoids in comparison to kmeans\r\n"
   ],
   "outputs": [],
   "metadata": {}
  },
  {
   "cell_type": "code",
   "execution_count": 26,
   "source": [
    "kmeans = KMeans(n_clusters=3, init='random',max_iter=300,n_init=10,random_state=0)\r\n",
    "y_kmeans = kmeans.fit_predict(x_scaled)\r\n",
    "purity_score(y,y_kmeans)"
   ],
   "outputs": [
    {
     "output_type": "execute_result",
     "data": {
      "text/plain": [
       "0.8333333333333334"
      ]
     },
     "metadata": {},
     "execution_count": 26
    }
   ],
   "metadata": {}
  },
  {
   "cell_type": "code",
   "execution_count": 29,
   "source": [
    "plt.scatter(x_scaled[y_kmeans == 0,0],x_scaled[y_kmeans == 0,1] , s=100 , c='red',label='C1')\r\n",
    "plt.scatter(x_scaled[y_kmeans == 1,0],x_scaled[y_kmeans == 1,1] , s=100 , c='blue',label='C2')\r\n",
    "plt.scatter(x_scaled[y_kmeans == 2,0],x_scaled[y_kmeans == 2,1] , s=100 , c='green',label='C3')\r\n",
    "plt.scatter(kmeans.cluster_centers_[:,0],kmeans.cluster_centers_[:,1],s=100,c='yellow',label='Centroids')\r\n",
    "plt.legend()\r\n"
   ],
   "outputs": [
    {
     "output_type": "execute_result",
     "data": {
      "text/plain": [
       "<matplotlib.legend.Legend at 0x14110002e80>"
      ]
     },
     "metadata": {},
     "execution_count": 29
    },
    {
     "output_type": "display_data",
     "data": {
      "image/png": "[encoded data removed]",
      "text/plain": [
       "<Figure size 432x288 with 1 Axes>"
      ]
     },
     "metadata": {
      "needs_background": "light"
     }
    }
   ],
   "metadata": {}
  },
  {
   "cell_type": "code",
   "execution_count": 30,
   "source": [
    "kMedoids = KMedoids(n_clusters=3, random_state=0).fit(x_scaled)\r\n",
    "y_kmed = kMedoids.fit_predict(x_scaled)\r\n",
    "purity_score(y,y_kmed)"
   ],
   "outputs": [
    {
     "output_type": "execute_result",
     "data": {
      "text/plain": [
       "0.84"
      ]
     },
     "metadata": {},
     "execution_count": 30
    }
   ],
   "metadata": {}
  },
  {
   "cell_type": "code",
   "execution_count": 31,
   "source": [
    "plt.scatter(x_scaled[y_kmed == 0,0],x_scaled[y_kmed == 0,1] , s=100 , c='red',label='C1')\r\n",
    "plt.scatter(x_scaled[y_kmed == 1,0],x_scaled[y_kmed == 1,1] , s=100 , c='blue',label='C2')\r\n",
    "plt.scatter(x_scaled[y_kmed == 2,0],x_scaled[y_kmed == 2,1] , s=100 , c='green',label='C3')\r\n",
    "plt.scatter(kMedoids.cluster_centers_[:,0],kMedoids.cluster_centers_[:,1],s=100,c='yellow',label='Centroids')\r\n",
    "plt.legend()"
   ],
   "outputs": [
    {
     "output_type": "execute_result",
     "data": {
      "text/plain": [
       "<matplotlib.legend.Legend at 0x1410a1a4e50>"
      ]
     },
     "metadata": {},
     "execution_count": 31
    },
    {
     "output_type": "display_data",
     "data": {
      "image/png": "[encoded data removed]",
      "text/plain": [
       "<Figure size 432x288 with 1 Axes>"
      ]
     },
     "metadata": {
      "needs_background": "light"
     }
    }
   ],
   "metadata": {}
  },
  {
   "cell_type": "markdown",
   "source": [
    "## Adding extreme values\r\n"
   ],
   "metadata": {}
  },
  {
   "cell_type": "code",
   "execution_count": 32,
   "source": [
    "import numpy as np\r\n",
    "m = np.append(x,[[10,10,10,10],[15,15,15,15],[12,12,12,12]],axis=0)\r\n",
    "m.shape\r\n",
    "#making no of rows same in m and y\r\n",
    "y = np.append(y,[2,2,2])\r\n",
    "y"
   ],
   "outputs": [
    {
     "output_type": "execute_result",
     "data": {
      "text/plain": [
       "array([0, 0, 0, 0, 0, 0, 0, 0, 0, 0, 0, 0, 0, 0, 0, 0, 0, 0, 0, 0, 0, 0,\n",
       "       0, 0, 0, 0, 0, 0, 0, 0, 0, 0, 0, 0, 0, 0, 0, 0, 0, 0, 0, 0, 0, 0,\n",
       "       0, 0, 0, 0, 0, 0, 1, 1, 1, 1, 1, 1, 1, 1, 1, 1, 1, 1, 1, 1, 1, 1,\n",
       "       1, 1, 1, 1, 1, 1, 1, 1, 1, 1, 1, 1, 1, 1, 1, 1, 1, 1, 1, 1, 1, 1,\n",
       "       1, 1, 1, 1, 1, 1, 1, 1, 1, 1, 1, 1, 2, 2, 2, 2, 2, 2, 2, 2, 2, 2,\n",
       "       2, 2, 2, 2, 2, 2, 2, 2, 2, 2, 2, 2, 2, 2, 2, 2, 2, 2, 2, 2, 2, 2,\n",
       "       2, 2, 2, 2, 2, 2, 2, 2, 2, 2, 2, 2, 2, 2, 2, 2, 2, 2, 2, 2, 2])"
      ]
     },
     "metadata": {},
     "execution_count": 32
    }
   ],
   "metadata": {}
  },
  {
   "cell_type": "code",
   "execution_count": 34,
   "source": [
    "m.shape"
   ],
   "outputs": [
    {
     "output_type": "execute_result",
     "data": {
      "text/plain": [
       "(153, 4)"
      ]
     },
     "metadata": {},
     "execution_count": 34
    }
   ],
   "metadata": {}
  },
  {
   "cell_type": "code",
   "execution_count": 35,
   "source": [
    "y.shape"
   ],
   "outputs": [
    {
     "output_type": "execute_result",
     "data": {
      "text/plain": [
       "(153,)"
      ]
     },
     "metadata": {},
     "execution_count": 35
    }
   ],
   "metadata": {}
  },
  {
   "cell_type": "code",
   "execution_count": 36,
   "source": [
    "scaler = StandardScaler().fit(m)\r\n",
    "x_scaled = scaler.transform(m)"
   ],
   "outputs": [],
   "metadata": {}
  },
  {
   "cell_type": "code",
   "execution_count": 37,
   "source": [
    "kmeans = KMeans(n_clusters=3, init='random',max_iter=300,n_init=10,random_state=0)\r\n",
    "y_kmeans = kmeans.fit_predict(x_scaled)\r\n",
    "purity_score(y,y_kmeans)"
   ],
   "outputs": [
    {
     "output_type": "execute_result",
     "data": {
      "text/plain": [
       "0.673202614379085"
      ]
     },
     "metadata": {},
     "execution_count": 37
    }
   ],
   "metadata": {}
  },
  {
   "cell_type": "code",
   "execution_count": 38,
   "source": [
    "kMedoids = KMedoids(n_clusters=3, random_state=0).fit(x_scaled)\r\n",
    "y_kmed = kMedoids.fit_predict(x_scaled)\r\n",
    "purity_score(y,y_kmed)"
   ],
   "outputs": [
    {
     "output_type": "execute_result",
     "data": {
      "text/plain": [
       "0.8627450980392157"
      ]
     },
     "metadata": {},
     "execution_count": 38
    }
   ],
   "metadata": {}
  },
  {
   "cell_type": "code",
   "execution_count": 39,
   "source": [
    "plt.scatter(x_scaled[y_kmed == 0,0],x_scaled[y_kmed == 0,1] , s=100 , c='red',label='C1')\r\n",
    "plt.scatter(x_scaled[y_kmed == 1,0],x_scaled[y_kmed == 1,1] , s=100 , c='blue',label='C2')\r\n",
    "plt.scatter(x_scaled[y_kmed == 2,0],x_scaled[y_kmed == 2,1] , s=100 , c='green',label='C3')\r\n",
    "plt.scatter(kMedoids.cluster_centers_[:,0],kMedoids.cluster_centers_[:,1],s=100,c='yellow',label='Centroids')\r\n",
    "plt.legend()"
   ],
   "outputs": [
    {
     "output_type": "execute_result",
     "data": {
      "text/plain": [
       "<matplotlib.legend.Legend at 0x141100efe20>"
      ]
     },
     "metadata": {},
     "execution_count": 39
    },
    {
     "output_type": "display_data",
     "data": {
      "image/png": "[encoded data removed]",
      "text/plain": [
       "<Figure size 432x288 with 1 Axes>"
      ]
     },
     "metadata": {
      "needs_background": "light"
     }
    }
   ],
   "metadata": {}
  },
  {
   "cell_type": "code",
   "execution_count": 40,
   "source": [
    "#centroid is not distorted"
   ],
   "outputs": [],
   "metadata": {}
  },
  {
   "cell_type": "code",
   "execution_count": 41,
   "source": [
    "plt.scatter(x_scaled[y_kmeans == 0,0],x_scaled[y_kmeans == 0,1] , s=100 , c='red',label='C1')\r\n",
    "plt.scatter(x_scaled[y_kmeans == 1,0],x_scaled[y_kmeans == 1,1] , s=100 , c='blue',label='C2')\r\n",
    "plt.scatter(x_scaled[y_kmeans == 2,0],x_scaled[y_kmeans == 2,1] , s=100 , c='green',label='C3')\r\n",
    "plt.scatter(kmeans.cluster_centers_[:,0],kmeans.cluster_centers_[:,1],s=100,c='yellow',label='Centroids')\r\n",
    "plt.legend()"
   ],
   "outputs": [
    {
     "output_type": "execute_result",
     "data": {
      "text/plain": [
       "<matplotlib.legend.Legend at 0x14110166820>"
      ]
     },
     "metadata": {},
     "execution_count": 41
    },
    {
     "output_type": "display_data",
     "data": {
      "image/png": "[encoded data removed]",
      "text/plain": [
       "<Figure size 432x288 with 1 Axes>"
      ]
     },
     "metadata": {
      "needs_background": "light"
     }
    }
   ],
   "metadata": {}
  },
  {
   "cell_type": "markdown",
   "source": [
    "## Outliers affect cluster distribution very highly  in kmeans but bery less in kmedoids"
   ],
   "metadata": {}
  },
  {
   "cell_type": "code",
   "execution_count": 42,
   "source": [
    "data = [['k-Means',0.83],['k-Means with outliers',0.67],['k-Medoid',0.84],['k-Medoid with outliers',0.86]]\r\n",
    "df = pd.DataFrame(data,columns=['Method','Purity'])"
   ],
   "outputs": [],
   "metadata": {}
  },
  {
   "cell_type": "code",
   "execution_count": 43,
   "source": [
    "df.plot.bar(x='Method',y='Purity',title='Cluster quality')"
   ],
   "outputs": [
    {
     "output_type": "execute_result",
     "data": {
      "text/plain": [
       "<AxesSubplot:title={'center':'Cluster quality'}, xlabel='Method'>"
      ]
     },
     "metadata": {},
     "execution_count": 43
    },
    {
     "output_type": "display_data",
     "data": {
      "image/png": "[encoded data removed]",
      "text/plain": [
       "<Figure size 432x288 with 1 Axes>"
      ]
     },
     "metadata": {
      "needs_background": "light"
     }
    }
   ],
   "metadata": {}
  },
  {
   "cell_type": "code",
   "execution_count": null,
   "source": [],
   "outputs": [],
   "metadata": {}
  }
 ],
 "metadata": {
  "orig_nbformat": 4,
  "language_info": {
   "name": "python",
   "version": "3.9.6",
   "mimetype": "text/x-python",
   "codemirror_mode": {
    "name": "ipython",
    "version": 3
   },
   "pygments_lexer": "ipython3",
   "nbconvert_exporter": "python",
   "file_extension": ".py"
  },
  "kernelspec": {
   "name": "python3",
   "display_name": "Python 3.9.6 64-bit"
  },
  "interpreter": {
   "hash": "63fd5069d213b44bf678585dea6b12cceca9941eaf7f819626cde1f2670de90d"
  }
 },
 "nbformat": 4,
 "nbformat_minor": 2
}